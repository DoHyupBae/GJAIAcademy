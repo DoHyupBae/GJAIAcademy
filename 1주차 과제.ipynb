{
  "nbformat": 4,
  "nbformat_minor": 0,
  "metadata": {
    "colab": {
      "name": "Untitled2.ipynb",
      "provenance": [],
      "authorship_tag": "ABX9TyM9N+MJau2b6h+T1Ku0T7Mr",
      "include_colab_link": true
    },
    "kernelspec": {
      "name": "python3",
      "display_name": "Python 3"
    }
  },
  "cells": [
    {
      "cell_type": "markdown",
      "metadata": {
        "id": "view-in-github",
        "colab_type": "text"
      },
      "source": [
        "<a href=\"https://colab.research.google.com/github/DoHyupBae/GJAIAcademy/blob/master/1%EC%A3%BC%EC%B0%A8%20%EA%B3%BC%EC%A0%9C.ipynb\" target=\"_parent\"><img src=\"https://colab.research.google.com/assets/colab-badge.svg\" alt=\"Open In Colab\"/></a>"
      ]
    },
    {
      "cell_type": "markdown",
      "metadata": {
        "id": "rEDUZa-9BXsI",
        "colab_type": "text"
      },
      "source": [
        "인공지능 사관학교 프리코스 1주차 과제\n",
        "=====================================\n",
        "\n",
        "목차\n",
        "----\n",
        "\n",
        "#1. 에너지 분야\n",
        "#2. 자동차 분야\n",
        "#3. 헬스케어 분야\n",
        "#4. 문화콘텐츠 공공 분야\n"
      ]
    }
  ]
}